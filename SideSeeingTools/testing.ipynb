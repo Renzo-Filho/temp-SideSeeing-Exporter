{
 "cells": [
  {
   "cell_type": "markdown",
   "id": "a19a606b",
   "metadata": {},
   "source": [
    "# Testando o SideSeeing Tools"
   ]
  },
  {
   "cell_type": "code",
   "execution_count": 2,
   "id": "4cdf884c",
   "metadata": {},
   "outputs": [],
   "source": [
    "import os\n",
    "from sideseeing_tools import sideseeing"
   ]
  },
  {
   "cell_type": "code",
   "execution_count": 3,
   "id": "e3cb3716",
   "metadata": {},
   "outputs": [
    {
     "name": "stdout",
     "output_type": "stream",
     "text": [
      "INFO. Loading data.\n",
      "INFO. Done.\n"
     ]
    }
   ],
   "source": [
    "ds = sideseeing.SideSeeingDS(root_dir='/home/renzo/Documents/GitHub/temp-SideSeeing-Exporter/dataset/')\n",
    "\n",
    "# Available iterators\n",
    "#   .instances  // Tip: dictionary of instances (key=name, value=SideSeeingInstance)\n",
    "#   .iterator   // Tip: for i in ds.iterator: i.name\n",
    "\n",
    "# Available attributes and methods\n",
    "#   .metadata() // Tip: generates and prints the dataset metadata\n",
    "#   .size       // Tip: shows the number of instances  \n",
    "#   .sensors    // Tip: a dictionary containing the names of the available sensors"
   ]
  },
  {
   "cell_type": "markdown",
   "id": "1ef38e84",
   "metadata": {},
   "source": [
    "Print the metadata.csv"
   ]
  },
  {
   "cell_type": "code",
   "execution_count": 4,
   "id": "873aa1f4",
   "metadata": {},
   "outputs": [
    {
     "data": {
      "text/html": [
       "<div>\n",
       "<style scoped>\n",
       "    .dataframe tbody tr th:only-of-type {\n",
       "        vertical-align: middle;\n",
       "    }\n",
       "\n",
       "    .dataframe tbody tr th {\n",
       "        vertical-align: top;\n",
       "    }\n",
       "\n",
       "    .dataframe thead th {\n",
       "        text-align: right;\n",
       "    }\n",
       "</style>\n",
       "<table border=\"1\" class=\"dataframe\">\n",
       "  <thead>\n",
       "    <tr style=\"text-align: right;\">\n",
       "      <th></th>\n",
       "      <th>name</th>\n",
       "      <th>geolocation_center</th>\n",
       "      <th>media_start_time</th>\n",
       "      <th>media_stop_time</th>\n",
       "      <th>media_total_time</th>\n",
       "      <th>video_frames</th>\n",
       "      <th>video_fps</th>\n",
       "      <th>video_resolution</th>\n",
       "      <th>manufacturer</th>\n",
       "      <th>model</th>\n",
       "      <th>so_version</th>\n",
       "    </tr>\n",
       "  </thead>\n",
       "  <tbody>\n",
       "    <tr>\n",
       "      <th>0</th>\n",
       "      <td>rota1a - 2025-09-16-10-33-42-649</td>\n",
       "      <td>-23.55725359427754, -46.72694934778254</td>\n",
       "      <td>2025-09-16 13:33:42.951</td>\n",
       "      <td>2025-09-16 13:45:22.747</td>\n",
       "      <td>699.796</td>\n",
       "      <td>20976</td>\n",
       "      <td>29.99122</td>\n",
       "      <td>1920x1080</td>\n",
       "      <td>samsung</td>\n",
       "      <td>SM-S911B</td>\n",
       "      <td>35</td>\n",
       "    </tr>\n",
       "  </tbody>\n",
       "</table>\n",
       "</div>"
      ],
      "text/plain": [
       "                               name                      geolocation_center  \\\n",
       "0  rota1a - 2025-09-16-10-33-42-649  -23.55725359427754, -46.72694934778254   \n",
       "\n",
       "         media_start_time         media_stop_time  media_total_time  \\\n",
       "0 2025-09-16 13:33:42.951 2025-09-16 13:45:22.747           699.796   \n",
       "\n",
       "   video_frames  video_fps video_resolution manufacturer     model  so_version  \n",
       "0         20976   29.99122        1920x1080      samsung  SM-S911B          35  "
      ]
     },
     "execution_count": 4,
     "metadata": {},
     "output_type": "execute_result"
    }
   ],
   "source": [
    "ds.metadata()"
   ]
  },
  {
   "cell_type": "markdown",
   "id": "bdfe4411",
   "metadata": {},
   "source": [
    "Print sensors"
   ]
  },
  {
   "cell_type": "code",
   "execution_count": 5,
   "id": "1d9f4a00",
   "metadata": {},
   "outputs": [
    {
     "data": {
      "text/plain": [
       "{'sensors1': {'lps22hh pressure sensor non-wakeup': {'rota1a - 2025-09-16-10-33-42-649'},\n",
       "  'stk33911 light  non-wakeup': {'rota1a - 2025-09-16-10-33-42-649'}},\n",
       " 'sensors3': {'ak09918 magnetometer': {'rota1a - 2025-09-16-10-33-42-649'},\n",
       "  'lsm6dso lsm6dso accelerometer non-wakeup': {'rota1a - 2025-09-16-10-33-42-649'},\n",
       "  'lsm6dso lsm6dso gyroscope non-wakeup': {'rota1a - 2025-09-16-10-33-42-649'},\n",
       "  'gravity  non-wakeup': {'rota1a - 2025-09-16-10-33-42-649'},\n",
       "  'linear_acceleration': {'rota1a - 2025-09-16-10-33-42-649'}},\n",
       " 'sensors6': {'ak09918 magnetometer-uncalibrated': {'rota1a - 2025-09-16-10-33-42-649'},\n",
       "  'lsm6dso lsm6dso gyroscope-uncalibrated non-wakeup': {'rota1a - 2025-09-16-10-33-42-649'}}}"
      ]
     },
     "execution_count": 5,
     "metadata": {},
     "output_type": "execute_result"
    }
   ],
   "source": [
    "ds.sensors"
   ]
  },
  {
   "cell_type": "markdown",
   "id": "b866bad2",
   "metadata": {},
   "source": [
    "Get accelerometer data from the sample"
   ]
  },
  {
   "cell_type": "code",
   "execution_count": 12,
   "id": "bd04a8e6",
   "metadata": {},
   "outputs": [
    {
     "data": {
      "text/html": [
       "<div>\n",
       "<style scoped>\n",
       "    .dataframe tbody tr th:only-of-type {\n",
       "        vertical-align: middle;\n",
       "    }\n",
       "\n",
       "    .dataframe tbody tr th {\n",
       "        vertical-align: top;\n",
       "    }\n",
       "\n",
       "    .dataframe thead th {\n",
       "        text-align: right;\n",
       "    }\n",
       "</style>\n",
       "<table border=\"1\" class=\"dataframe\">\n",
       "  <thead>\n",
       "    <tr style=\"text-align: right;\">\n",
       "      <th></th>\n",
       "      <th>Datetime UTC</th>\n",
       "      <th>x</th>\n",
       "      <th>y</th>\n",
       "      <th>z</th>\n",
       "      <th>timestamp_nano</th>\n",
       "      <th>accuracy</th>\n",
       "      <th>name</th>\n",
       "      <th>Time (s)</th>\n",
       "    </tr>\n",
       "  </thead>\n",
       "  <tbody>\n",
       "    <tr>\n",
       "      <th>0</th>\n",
       "      <td>2025-09-16 13:33:42.951</td>\n",
       "      <td>9.379267</td>\n",
       "      <td>0.005384</td>\n",
       "      <td>1.347757</td>\n",
       "      <td>347823850842108</td>\n",
       "      <td>3</td>\n",
       "      <td>lsm6dso lsm6dso accelerometer non-wakeup</td>\n",
       "      <td>0.000</td>\n",
       "    </tr>\n",
       "    <tr>\n",
       "      <th>1</th>\n",
       "      <td>2025-09-16 13:33:42.961</td>\n",
       "      <td>9.331410</td>\n",
       "      <td>-0.028116</td>\n",
       "      <td>1.234697</td>\n",
       "      <td>347823860283514</td>\n",
       "      <td>3</td>\n",
       "      <td>lsm6dso lsm6dso accelerometer non-wakeup</td>\n",
       "      <td>0.010</td>\n",
       "    </tr>\n",
       "    <tr>\n",
       "      <th>2</th>\n",
       "      <td>2025-09-16 13:33:42.969</td>\n",
       "      <td>9.247063</td>\n",
       "      <td>0.029910</td>\n",
       "      <td>1.257428</td>\n",
       "      <td>347823869724764</td>\n",
       "      <td>3</td>\n",
       "      <td>lsm6dso lsm6dso accelerometer non-wakeup</td>\n",
       "      <td>0.018</td>\n",
       "    </tr>\n",
       "    <tr>\n",
       "      <th>3</th>\n",
       "      <td>2025-09-16 13:33:42.979</td>\n",
       "      <td>9.265608</td>\n",
       "      <td>0.163908</td>\n",
       "      <td>1.351347</td>\n",
       "      <td>347823879166274</td>\n",
       "      <td>3</td>\n",
       "      <td>lsm6dso lsm6dso accelerometer non-wakeup</td>\n",
       "      <td>0.028</td>\n",
       "    </tr>\n",
       "    <tr>\n",
       "      <th>4</th>\n",
       "      <td>2025-09-16 13:33:42.988</td>\n",
       "      <td>9.272786</td>\n",
       "      <td>0.312263</td>\n",
       "      <td>1.471586</td>\n",
       "      <td>347823888607680</td>\n",
       "      <td>3</td>\n",
       "      <td>lsm6dso lsm6dso accelerometer non-wakeup</td>\n",
       "      <td>0.037</td>\n",
       "    </tr>\n",
       "    <tr>\n",
       "      <th>...</th>\n",
       "      <td>...</td>\n",
       "      <td>...</td>\n",
       "      <td>...</td>\n",
       "      <td>...</td>\n",
       "      <td>...</td>\n",
       "      <td>...</td>\n",
       "      <td>...</td>\n",
       "      <td>...</td>\n",
       "    </tr>\n",
       "    <tr>\n",
       "      <th>74082</th>\n",
       "      <td>2025-09-16 13:45:22.468</td>\n",
       "      <td>8.694321</td>\n",
       "      <td>-0.114855</td>\n",
       "      <td>3.975077</td>\n",
       "      <td>348523368921104</td>\n",
       "      <td>3</td>\n",
       "      <td>lsm6dso lsm6dso accelerometer non-wakeup</td>\n",
       "      <td>699.517</td>\n",
       "    </tr>\n",
       "    <tr>\n",
       "      <th>74083</th>\n",
       "      <td>2025-09-16 13:45:22.479</td>\n",
       "      <td>8.608778</td>\n",
       "      <td>-0.056231</td>\n",
       "      <td>4.205386</td>\n",
       "      <td>348523378363239</td>\n",
       "      <td>3</td>\n",
       "      <td>lsm6dso lsm6dso accelerometer non-wakeup</td>\n",
       "      <td>699.528</td>\n",
       "    </tr>\n",
       "    <tr>\n",
       "      <th>74084</th>\n",
       "      <td>2025-09-16 13:45:22.487</td>\n",
       "      <td>8.648259</td>\n",
       "      <td>-0.028116</td>\n",
       "      <td>4.176074</td>\n",
       "      <td>348523387805687</td>\n",
       "      <td>3</td>\n",
       "      <td>lsm6dso lsm6dso accelerometer non-wakeup</td>\n",
       "      <td>699.536</td>\n",
       "    </tr>\n",
       "    <tr>\n",
       "      <th>74085</th>\n",
       "      <td>2025-09-16 13:45:22.497</td>\n",
       "      <td>8.717052</td>\n",
       "      <td>-0.122034</td>\n",
       "      <td>3.989434</td>\n",
       "      <td>348523397248187</td>\n",
       "      <td>3</td>\n",
       "      <td>lsm6dso lsm6dso accelerometer non-wakeup</td>\n",
       "      <td>699.546</td>\n",
       "    </tr>\n",
       "    <tr>\n",
       "      <th>74086</th>\n",
       "      <td>2025-09-16 13:45:22.507</td>\n",
       "      <td>8.974879</td>\n",
       "      <td>-0.224327</td>\n",
       "      <td>3.908078</td>\n",
       "      <td>348523406690687</td>\n",
       "      <td>3</td>\n",
       "      <td>lsm6dso lsm6dso accelerometer non-wakeup</td>\n",
       "      <td>699.556</td>\n",
       "    </tr>\n",
       "  </tbody>\n",
       "</table>\n",
       "<p>74087 rows × 8 columns</p>\n",
       "</div>"
      ],
      "text/plain": [
       "                 Datetime UTC         x         y         z   timestamp_nano  \\\n",
       "0     2025-09-16 13:33:42.951  9.379267  0.005384  1.347757  347823850842108   \n",
       "1     2025-09-16 13:33:42.961  9.331410 -0.028116  1.234697  347823860283514   \n",
       "2     2025-09-16 13:33:42.969  9.247063  0.029910  1.257428  347823869724764   \n",
       "3     2025-09-16 13:33:42.979  9.265608  0.163908  1.351347  347823879166274   \n",
       "4     2025-09-16 13:33:42.988  9.272786  0.312263  1.471586  347823888607680   \n",
       "...                       ...       ...       ...       ...              ...   \n",
       "74082 2025-09-16 13:45:22.468  8.694321 -0.114855  3.975077  348523368921104   \n",
       "74083 2025-09-16 13:45:22.479  8.608778 -0.056231  4.205386  348523378363239   \n",
       "74084 2025-09-16 13:45:22.487  8.648259 -0.028116  4.176074  348523387805687   \n",
       "74085 2025-09-16 13:45:22.497  8.717052 -0.122034  3.989434  348523397248187   \n",
       "74086 2025-09-16 13:45:22.507  8.974879 -0.224327  3.908078  348523406690687   \n",
       "\n",
       "      accuracy                                      name  Time (s)  \n",
       "0            3  lsm6dso lsm6dso accelerometer non-wakeup     0.000  \n",
       "1            3  lsm6dso lsm6dso accelerometer non-wakeup     0.010  \n",
       "2            3  lsm6dso lsm6dso accelerometer non-wakeup     0.018  \n",
       "3            3  lsm6dso lsm6dso accelerometer non-wakeup     0.028  \n",
       "4            3  lsm6dso lsm6dso accelerometer non-wakeup     0.037  \n",
       "...        ...                                       ...       ...  \n",
       "74082        3  lsm6dso lsm6dso accelerometer non-wakeup   699.517  \n",
       "74083        3  lsm6dso lsm6dso accelerometer non-wakeup   699.528  \n",
       "74084        3  lsm6dso lsm6dso accelerometer non-wakeup   699.536  \n",
       "74085        3  lsm6dso lsm6dso accelerometer non-wakeup   699.546  \n",
       "74086        3  lsm6dso lsm6dso accelerometer non-wakeup   699.556  \n",
       "\n",
       "[74087 rows x 8 columns]"
      ]
     },
     "execution_count": 12,
     "metadata": {},
     "output_type": "execute_result"
    }
   ],
   "source": [
    "# ds.instances['rota1a - 2025-09-16-10-33-42-649'] # get a specific sample\n",
    "sample = ds.instance # get a random sample \n",
    "sample_accel_data = sample.sensors3['lsm6dso lsm6dso accelerometer non-wakeup']\n",
    "sample_accel_data"
   ]
  },
  {
   "cell_type": "code",
   "execution_count": 15,
   "id": "4b5b0b5d",
   "metadata": {},
   "outputs": [
    {
     "data": {
      "text/plain": [
       "{'lps22hh pressure sensor non-wakeup':                 Datetime UTC          x   timestamp_nano accuracy  \\\n",
       " 0    2025-09-16 13:33:42.990  933.64844  347823890526430        3   \n",
       " 1    2025-09-16 13:33:43.090  933.65700  347823990514660        3   \n",
       " 2    2025-09-16 13:33:43.190  933.66797  347824090524608        3   \n",
       " 3    2025-09-16 13:33:43.290  933.67554  347824190522212        3   \n",
       " 4    2025-09-16 13:33:43.390  933.68460  347824290524191        3   \n",
       " ...                      ...        ...              ...      ...   \n",
       " 6991 2025-09-16 13:45:22.090  933.39404  348522990525322        3   \n",
       " 6992 2025-09-16 13:45:22.190  933.39160  348523090523239        3   \n",
       " 6993 2025-09-16 13:45:22.291  933.38965  348523190522718        3   \n",
       " 6994 2025-09-16 13:45:22.390  933.39430  348523290520426        3   \n",
       " 6995 2025-09-16 13:45:22.491  933.40845  348523390523447        3   \n",
       " \n",
       "                                     name  Time (s)  \n",
       " 0     lps22hh pressure sensor non-wakeup     0.000  \n",
       " 1     lps22hh pressure sensor non-wakeup     0.100  \n",
       " 2     lps22hh pressure sensor non-wakeup     0.200  \n",
       " 3     lps22hh pressure sensor non-wakeup     0.300  \n",
       " 4     lps22hh pressure sensor non-wakeup     0.400  \n",
       " ...                                  ...       ...  \n",
       " 6991  lps22hh pressure sensor non-wakeup   699.100  \n",
       " 6992  lps22hh pressure sensor non-wakeup   699.200  \n",
       " 6993  lps22hh pressure sensor non-wakeup   699.301  \n",
       " 6994  lps22hh pressure sensor non-wakeup   699.400  \n",
       " 6995  lps22hh pressure sensor non-wakeup   699.501  \n",
       " \n",
       " [6996 rows x 6 columns],\n",
       " 'stk33911 light  non-wakeup':                 Datetime UTC          x   timestamp_nano accuracy  \\\n",
       " 0    2025-09-16 13:33:43.015  7946.9780  347823914822160        3   \n",
       " 1    2025-09-16 13:33:43.175  8502.9760  347824074820962        3   \n",
       " 2    2025-09-16 13:33:43.334  8667.0000  347824234820180        3   \n",
       " 3    2025-09-16 13:33:43.495  8804.9710  347824394821899        3   \n",
       " 4    2025-09-16 13:33:43.655  8917.0205  347824554821222        3   \n",
       " ...                      ...        ...              ...      ...   \n",
       " 4384 2025-09-16 13:45:21.735  1216.0126  348522634818708        3   \n",
       " 4385 2025-09-16 13:45:21.894  1240.9875  348522794818708        3   \n",
       " 4386 2025-09-16 13:45:22.054  1223.0326  348522954818968        3   \n",
       " 4387 2025-09-16 13:45:22.215  1162.0126  348523114818760        3   \n",
       " 4388 2025-09-16 13:45:22.374  1148.9850  348523274819281        3   \n",
       " \n",
       "                             name  Time (s)  \n",
       " 0     stk33911 light  non-wakeup     0.000  \n",
       " 1     stk33911 light  non-wakeup     0.160  \n",
       " 2     stk33911 light  non-wakeup     0.319  \n",
       " 3     stk33911 light  non-wakeup     0.480  \n",
       " 4     stk33911 light  non-wakeup     0.640  \n",
       " ...                          ...       ...  \n",
       " 4384  stk33911 light  non-wakeup   698.720  \n",
       " 4385  stk33911 light  non-wakeup   698.879  \n",
       " 4386  stk33911 light  non-wakeup   699.039  \n",
       " 4387  stk33911 light  non-wakeup   699.200  \n",
       " 4388  stk33911 light  non-wakeup   699.359  \n",
       " \n",
       " [4389 rows x 6 columns]}"
      ]
     },
     "execution_count": 15,
     "metadata": {},
     "output_type": "execute_result"
    }
   ],
   "source": [
    "sample.sensors1"
   ]
  },
  {
   "cell_type": "markdown",
   "id": "c04367ce",
   "metadata": {},
   "source": [
    "Extracting snippets"
   ]
  },
  {
   "cell_type": "code",
   "execution_count": 7,
   "id": "520946c8",
   "metadata": {},
   "outputs": [
    {
     "name": "stdout",
     "output_type": "stream",
     "text": [
      "WARNING. No consumption data available for the specified time range: 2 to 8.\n"
     ]
    },
    {
     "name": "stdout",
     "output_type": "stream",
     "text": [
      "MoviePy - Building video /home/renzo/Documents/GitHub/temp-SideSeeing-Exporter/out/snippet_2_17/video.mp4.\n",
      "MoviePy - Writing audio in videoTEMP_MPY_wvf_snd.mp3\n"
     ]
    },
    {
     "name": "stderr",
     "output_type": "stream",
     "text": [
      "                                                                    \r"
     ]
    },
    {
     "name": "stdout",
     "output_type": "stream",
     "text": [
      "MoviePy - Done.\n",
      "MoviePy - Writing video /home/renzo/Documents/GitHub/temp-SideSeeing-Exporter/out/snippet_2_17/video.mp4\n",
      "\n"
     ]
    },
    {
     "name": "stderr",
     "output_type": "stream",
     "text": [
      "                                                                        \r"
     ]
    },
    {
     "name": "stdout",
     "output_type": "stream",
     "text": [
      "MoviePy - Done !\n",
      "MoviePy - video ready /home/renzo/Documents/GitHub/temp-SideSeeing-Exporter/out/snippet_2_17/video.mp4\n"
     ]
    }
   ],
   "source": [
    "sample.extract_snippet(\n",
    "    start_time=2,                                                                       # Start time of the snippet (in seconds)\n",
    "    end_time=8,                                                                         # End time of the snippet (in seconds)\n",
    "    output_dir='/home/renzo/Documents/GitHub/temp-SideSeeing-Exporter/out/snippet_2_17' # Directory to save the extracted snippet\n",
    ")"
   ]
  },
  {
   "cell_type": "code",
   "execution_count": null,
   "id": "11a376e1",
   "metadata": {},
   "outputs": [
    {
     "ename": "TypeError",
     "evalue": "SideSeeingPlotter.__init__() got an unexpected keyword argument 'taxonomy'",
     "output_type": "error",
     "traceback": [
      "\u001b[31m---------------------------------------------------------------------------\u001b[39m",
      "\u001b[31mTypeError\u001b[39m                                 Traceback (most recent call last)",
      "\u001b[36mCell\u001b[39m\u001b[36m \u001b[39m\u001b[32mIn[8]\u001b[39m\u001b[32m, line 3\u001b[39m\n\u001b[32m      1\u001b[39m \u001b[38;5;28;01mfrom\u001b[39;00m\u001b[38;5;250m \u001b[39m\u001b[34;01msideseeing_tools\u001b[39;00m\u001b[38;5;250m \u001b[39m\u001b[38;5;28;01mimport\u001b[39;00m plot\n\u001b[32m----> \u001b[39m\u001b[32m3\u001b[39m plotter = \u001b[43mplot\u001b[49m\u001b[43m.\u001b[49m\u001b[43mSideSeeingPlotter\u001b[49m\u001b[43m(\u001b[49m\u001b[43mds\u001b[49m\u001b[43m,\u001b[49m\u001b[43m \u001b[49m\u001b[43mtaxonomy\u001b[49m\u001b[43m=\u001b[49m\u001b[33;43m'\u001b[39;49m\u001b[33;43m/home/user/my-project/taxonomy.csv\u001b[39;49m\u001b[33;43m'\u001b[39;49m\u001b[43m)\u001b[49m\n\u001b[32m      5\u001b[39m \u001b[38;5;66;03m# Available methods:\u001b[39;00m\n\u001b[32m      6\u001b[39m \u001b[38;5;66;03m#   .generate_video_for_sensor()\u001b[39;00m\n\u001b[32m      7\u001b[39m \u001b[38;5;66;03m#   .plot_dataset_cities()\u001b[39;00m\n\u001b[32m   (...)\u001b[39m\u001b[32m     16\u001b[39m \u001b[38;5;66;03m#   .plot_sensor()\u001b[39;00m\n\u001b[32m     17\u001b[39m \u001b[38;5;66;03m#   .plot_sensors()\u001b[39;00m\n",
      "\u001b[31mTypeError\u001b[39m: SideSeeingPlotter.__init__() got an unexpected keyword argument 'taxonomy'"
     ]
    }
   ],
   "source": [
    "from sideseeing_tools import plot\n",
    "\n",
    "#plotter = plot.SideSeeingPlotter(ds, taxonomy='/home/user/my-project/taxonomy.csv')\n",
    "\n",
    "# Available methods:\n",
    "#   .generate_video_for_sensor()\n",
    "#   .plot_dataset_cities()\n",
    "#   .plot_dataset_map()\n",
    "#   .plot_dataset_tags_matrix()\n",
    "#   .plot_dataset_tags()\n",
    "#   .plot_instance_audio()\n",
    "#   .plot_instance_map()\n",
    "#   .plot_instance_sensors3_and_audio()\n",
    "#   .plot_instance_video_frames_at_times()\n",
    "#   .plot_instance_video_frames()\n",
    "#   .plot_sensor()\n",
    "#   .plot_sensors()"
   ]
  },
  {
   "cell_type": "code",
   "execution_count": 10,
   "id": "6978b826",
   "metadata": {},
   "outputs": [
    {
     "name": "stdout",
     "output_type": "stream",
     "text": [
      "GRUPO      | SENSOR                                   | ARQUIVO                       \n",
      "-------------------------------------------------------------------------------------\n",
      "sensors1   | lps22hh pressure sensor non-wakeup       | rota1a - 2025-09-16-10-33-42-649\n",
      "sensors1   | stk33911 light  non-wakeup               | rota1a - 2025-09-16-10-33-42-649\n",
      "sensors3   | ak09918 magnetometer                     | rota1a - 2025-09-16-10-33-42-649\n",
      "sensors3   | lsm6dso lsm6dso accelerometer non-wakeup | rota1a - 2025-09-16-10-33-42-649\n",
      "sensors3   | lsm6dso lsm6dso gyroscope non-wakeup     | rota1a - 2025-09-16-10-33-42-649\n",
      "sensors3   | gravity  non-wakeup                      | rota1a - 2025-09-16-10-33-42-649\n",
      "sensors3   | linear_acceleration                      | rota1a - 2025-09-16-10-33-42-649\n",
      "sensors6   | ak09918 magnetometer-uncalibrated        | rota1a - 2025-09-16-10-33-42-649\n",
      "sensors6   | lsm6dso lsm6dso gyroscope-uncalibrated non-wakeup | rota1a - 2025-09-16-10-33-42-649\n"
     ]
    }
   ],
   "source": [
    "def tabela_sensores(dados):\n",
    "    print(f\"{'GRUPO':<10} | {'SENSOR':<40} | {'ARQUIVO':<30}\")\n",
    "    print(\"-\" * 85)\n",
    "    for grupo, sensores in dados.items():\n",
    "        for sensor, arquivos in sensores.items():\n",
    "            arquivo = next(iter(arquivos))  # Pega o primeiro arquivo do set\n",
    "            print(f\"{grupo:<10} | {sensor:<40} | {arquivo:<30}\")\n",
    "\n",
    "# Uso\n",
    "dados_exemplo = {\n",
    "    'sensors1': {'lps22hh pressure sensor non-wakeup': {'rota1a - 2025-09-16-10-33-42-649'},\n",
    "      'stk33911 light  non-wakeup': {'rota1a - 2025-09-16-10-33-42-649'}},\n",
    "    'sensors3': {'ak09918 magnetometer': {'rota1a - 2025-09-16-10-33-42-649'},\n",
    "      'lsm6dso lsm6dso accelerometer non-wakeup': {'rota1a - 2025-09-16-10-33-42-649'},\n",
    "      'lsm6dso lsm6dso gyroscope non-wakeup': {'rota1a - 2025-09-16-10-33-42-649'},\n",
    "      'gravity  non-wakeup': {'rota1a - 2025-09-16-10-33-42-649'},\n",
    "      'linear_acceleration': {'rota1a - 2025-09-16-10-33-42-649'}},\n",
    "    'sensors6': {'ak09918 magnetometer-uncalibrated': {'rota1a - 2025-09-16-10-33-42-649'},\n",
    "      'lsm6dso lsm6dso gyroscope-uncalibrated non-wakeup': {'rota1a - 2025-09-16-10-33-42-649'}}\n",
    "}\n",
    "tabela_sensores(dados_exemplo)"
   ]
  }
 ],
 "metadata": {
  "kernelspec": {
   "display_name": "export (3.12.3)",
   "language": "python",
   "name": "python3"
  },
  "language_info": {
   "codemirror_mode": {
    "name": "ipython",
    "version": 3
   },
   "file_extension": ".py",
   "mimetype": "text/x-python",
   "name": "python",
   "nbconvert_exporter": "python",
   "pygments_lexer": "ipython3",
   "version": "3.12.3"
  }
 },
 "nbformat": 4,
 "nbformat_minor": 5
}
