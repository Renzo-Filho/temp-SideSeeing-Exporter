{
 "cells": [
  {
   "cell_type": "markdown",
   "id": "a19a606b",
   "metadata": {},
   "source": [
    "# Testando o SideSeeing Tools"
   ]
  },
  {
   "cell_type": "code",
   "execution_count": 19,
   "id": "4cdf884c",
   "metadata": {},
   "outputs": [],
   "source": [
    "import os\n",
    "from sideseeing_tools import sideseeing"
   ]
  },
  {
   "cell_type": "code",
   "execution_count": 20,
   "id": "e3cb3716",
   "metadata": {},
   "outputs": [
    {
     "name": "stdout",
     "output_type": "stream",
     "text": [
      "INFO. Loading data.\n",
      "INFO. Done.\n"
     ]
    }
   ],
   "source": [
    "ds = sideseeing.SideSeeingDS(root_dir='/home/renzo/Documents/GitHub/temp-SideSeeing-Exporter/dataset/')\n",
    "\n",
    "# Available iterators\n",
    "#   .instances  // Tip: dictionary of instances (key=name, value=SideSeeingInstance)\n",
    "#   .iterator   // Tip: for i in ds.iterator: i.name\n",
    "\n",
    "# Available attributes and methods\n",
    "#   .metadata() // Tip: generates and prints the dataset metadata\n",
    "#   .size       // Tip: shows the number of instances  \n",
    "#   .sensors    // Tip: a dictionary containing the names of the available sensors"
   ]
  },
  {
   "cell_type": "markdown",
   "id": "1ef38e84",
   "metadata": {},
   "source": [
    "Print the metadata.csv"
   ]
  },
  {
   "cell_type": "code",
   "execution_count": 27,
   "id": "873aa1f4",
   "metadata": {},
   "outputs": [
    {
     "data": {
      "text/html": [
       "<div>\n",
       "<style scoped>\n",
       "    .dataframe tbody tr th:only-of-type {\n",
       "        vertical-align: middle;\n",
       "    }\n",
       "\n",
       "    .dataframe tbody tr th {\n",
       "        vertical-align: top;\n",
       "    }\n",
       "\n",
       "    .dataframe thead th {\n",
       "        text-align: right;\n",
       "    }\n",
       "</style>\n",
       "<table border=\"1\" class=\"dataframe\">\n",
       "  <thead>\n",
       "    <tr style=\"text-align: right;\">\n",
       "      <th></th>\n",
       "      <th>name</th>\n",
       "      <th>geolocation_center</th>\n",
       "      <th>media_start_time</th>\n",
       "      <th>media_stop_time</th>\n",
       "      <th>media_total_time</th>\n",
       "      <th>video_frames</th>\n",
       "      <th>video_fps</th>\n",
       "      <th>video_resolution</th>\n",
       "      <th>manufacturer</th>\n",
       "      <th>model</th>\n",
       "      <th>so_version</th>\n",
       "    </tr>\n",
       "  </thead>\n",
       "  <tbody>\n",
       "    <tr>\n",
       "      <th>0</th>\n",
       "      <td>rota1a - 2025-09-16-10-33-42-649</td>\n",
       "      <td>-23.55725359427754, -46.72694934778254</td>\n",
       "      <td>2025-09-16 13:33:42.951</td>\n",
       "      <td>2025-09-16 13:45:22.747</td>\n",
       "      <td>699.796</td>\n",
       "      <td>20976</td>\n",
       "      <td>29.99122</td>\n",
       "      <td>1920x1080</td>\n",
       "      <td>samsung</td>\n",
       "      <td>SM-S911B</td>\n",
       "      <td>35</td>\n",
       "    </tr>\n",
       "  </tbody>\n",
       "</table>\n",
       "</div>"
      ],
      "text/plain": [
       "                               name                      geolocation_center  \\\n",
       "0  rota1a - 2025-09-16-10-33-42-649  -23.55725359427754, -46.72694934778254   \n",
       "\n",
       "          media_start_time          media_stop_time  media_total_time  \\\n",
       "0  2025-09-16 13:33:42.951  2025-09-16 13:45:22.747           699.796   \n",
       "\n",
       "   video_frames  video_fps video_resolution manufacturer     model  so_version  \n",
       "0         20976   29.99122        1920x1080      samsung  SM-S911B          35  "
      ]
     },
     "execution_count": 27,
     "metadata": {},
     "output_type": "execute_result"
    }
   ],
   "source": [
    "ds.metadata()"
   ]
  },
  {
   "cell_type": "markdown",
   "id": "bdfe4411",
   "metadata": {},
   "source": [
    "Print sensors"
   ]
  },
  {
   "cell_type": "code",
   "execution_count": null,
   "id": "1d9f4a00",
   "metadata": {},
   "outputs": [
    {
     "data": {
      "text/plain": [
       "{'sensors1': {'lps22hh pressure sensor non-wakeup': {'rota1a - 2025-09-16-10-33-42-649'},\n",
       "  'stk33911 light  non-wakeup': {'rota1a - 2025-09-16-10-33-42-649'}},\n",
       " 'sensors3': {'ak09918 magnetometer': {'rota1a - 2025-09-16-10-33-42-649'},\n",
       "  'lsm6dso lsm6dso accelerometer non-wakeup': {'rota1a - 2025-09-16-10-33-42-649'},\n",
       "  'lsm6dso lsm6dso gyroscope non-wakeup': {'rota1a - 2025-09-16-10-33-42-649'},\n",
       "  'gravity  non-wakeup': {'rota1a - 2025-09-16-10-33-42-649'},\n",
       "  'linear_acceleration': {'rota1a - 2025-09-16-10-33-42-649'}},\n",
       " 'sensors6': {'ak09918 magnetometer-uncalibrated': {'rota1a - 2025-09-16-10-33-42-649'},\n",
       "  'lsm6dso lsm6dso gyroscope-uncalibrated non-wakeup': {'rota1a - 2025-09-16-10-33-42-649'}}}"
      ]
     },
     "execution_count": 25,
     "metadata": {},
     "output_type": "execute_result"
    }
   ],
   "source": [
    "ds.sensors"
   ]
  },
  {
   "cell_type": "markdown",
   "id": "b866bad2",
   "metadata": {},
   "source": [
    "Get accelerometer data from the sample"
   ]
  },
  {
   "cell_type": "code",
   "execution_count": null,
   "id": "bd04a8e6",
   "metadata": {},
   "outputs": [
    {
     "data": {
      "text/html": [
       "<div>\n",
       "<style scoped>\n",
       "    .dataframe tbody tr th:only-of-type {\n",
       "        vertical-align: middle;\n",
       "    }\n",
       "\n",
       "    .dataframe tbody tr th {\n",
       "        vertical-align: top;\n",
       "    }\n",
       "\n",
       "    .dataframe thead th {\n",
       "        text-align: right;\n",
       "    }\n",
       "</style>\n",
       "<table border=\"1\" class=\"dataframe\">\n",
       "  <thead>\n",
       "    <tr style=\"text-align: right;\">\n",
       "      <th></th>\n",
       "      <th>Datetime UTC</th>\n",
       "      <th>x</th>\n",
       "      <th>y</th>\n",
       "      <th>z</th>\n",
       "      <th>timestamp_nano</th>\n",
       "      <th>accuracy</th>\n",
       "      <th>name</th>\n",
       "      <th>Time (s)</th>\n",
       "    </tr>\n",
       "  </thead>\n",
       "  <tbody>\n",
       "    <tr>\n",
       "      <th>0</th>\n",
       "      <td>2025-09-16 13:33:42.951</td>\n",
       "      <td>9.379267</td>\n",
       "      <td>0.005384</td>\n",
       "      <td>1.347757</td>\n",
       "      <td>347823850842108</td>\n",
       "      <td>3</td>\n",
       "      <td>lsm6dso lsm6dso accelerometer non-wakeup</td>\n",
       "      <td>0.000</td>\n",
       "    </tr>\n",
       "    <tr>\n",
       "      <th>1</th>\n",
       "      <td>2025-09-16 13:33:42.961</td>\n",
       "      <td>9.331410</td>\n",
       "      <td>-0.028116</td>\n",
       "      <td>1.234697</td>\n",
       "      <td>347823860283514</td>\n",
       "      <td>3</td>\n",
       "      <td>lsm6dso lsm6dso accelerometer non-wakeup</td>\n",
       "      <td>0.010</td>\n",
       "    </tr>\n",
       "    <tr>\n",
       "      <th>2</th>\n",
       "      <td>2025-09-16 13:33:42.969</td>\n",
       "      <td>9.247063</td>\n",
       "      <td>0.029910</td>\n",
       "      <td>1.257428</td>\n",
       "      <td>347823869724764</td>\n",
       "      <td>3</td>\n",
       "      <td>lsm6dso lsm6dso accelerometer non-wakeup</td>\n",
       "      <td>0.018</td>\n",
       "    </tr>\n",
       "    <tr>\n",
       "      <th>3</th>\n",
       "      <td>2025-09-16 13:33:42.979</td>\n",
       "      <td>9.265608</td>\n",
       "      <td>0.163908</td>\n",
       "      <td>1.351347</td>\n",
       "      <td>347823879166274</td>\n",
       "      <td>3</td>\n",
       "      <td>lsm6dso lsm6dso accelerometer non-wakeup</td>\n",
       "      <td>0.028</td>\n",
       "    </tr>\n",
       "    <tr>\n",
       "      <th>4</th>\n",
       "      <td>2025-09-16 13:33:42.988</td>\n",
       "      <td>9.272786</td>\n",
       "      <td>0.312263</td>\n",
       "      <td>1.471586</td>\n",
       "      <td>347823888607680</td>\n",
       "      <td>3</td>\n",
       "      <td>lsm6dso lsm6dso accelerometer non-wakeup</td>\n",
       "      <td>0.037</td>\n",
       "    </tr>\n",
       "    <tr>\n",
       "      <th>...</th>\n",
       "      <td>...</td>\n",
       "      <td>...</td>\n",
       "      <td>...</td>\n",
       "      <td>...</td>\n",
       "      <td>...</td>\n",
       "      <td>...</td>\n",
       "      <td>...</td>\n",
       "      <td>...</td>\n",
       "    </tr>\n",
       "    <tr>\n",
       "      <th>74082</th>\n",
       "      <td>2025-09-16 13:45:22.468</td>\n",
       "      <td>8.694321</td>\n",
       "      <td>-0.114855</td>\n",
       "      <td>3.975077</td>\n",
       "      <td>348523368921104</td>\n",
       "      <td>3</td>\n",
       "      <td>lsm6dso lsm6dso accelerometer non-wakeup</td>\n",
       "      <td>699.517</td>\n",
       "    </tr>\n",
       "    <tr>\n",
       "      <th>74083</th>\n",
       "      <td>2025-09-16 13:45:22.479</td>\n",
       "      <td>8.608778</td>\n",
       "      <td>-0.056231</td>\n",
       "      <td>4.205386</td>\n",
       "      <td>348523378363239</td>\n",
       "      <td>3</td>\n",
       "      <td>lsm6dso lsm6dso accelerometer non-wakeup</td>\n",
       "      <td>699.528</td>\n",
       "    </tr>\n",
       "    <tr>\n",
       "      <th>74084</th>\n",
       "      <td>2025-09-16 13:45:22.487</td>\n",
       "      <td>8.648259</td>\n",
       "      <td>-0.028116</td>\n",
       "      <td>4.176074</td>\n",
       "      <td>348523387805687</td>\n",
       "      <td>3</td>\n",
       "      <td>lsm6dso lsm6dso accelerometer non-wakeup</td>\n",
       "      <td>699.536</td>\n",
       "    </tr>\n",
       "    <tr>\n",
       "      <th>74085</th>\n",
       "      <td>2025-09-16 13:45:22.497</td>\n",
       "      <td>8.717052</td>\n",
       "      <td>-0.122034</td>\n",
       "      <td>3.989434</td>\n",
       "      <td>348523397248187</td>\n",
       "      <td>3</td>\n",
       "      <td>lsm6dso lsm6dso accelerometer non-wakeup</td>\n",
       "      <td>699.546</td>\n",
       "    </tr>\n",
       "    <tr>\n",
       "      <th>74086</th>\n",
       "      <td>2025-09-16 13:45:22.507</td>\n",
       "      <td>8.974879</td>\n",
       "      <td>-0.224327</td>\n",
       "      <td>3.908078</td>\n",
       "      <td>348523406690687</td>\n",
       "      <td>3</td>\n",
       "      <td>lsm6dso lsm6dso accelerometer non-wakeup</td>\n",
       "      <td>699.556</td>\n",
       "    </tr>\n",
       "  </tbody>\n",
       "</table>\n",
       "<p>74087 rows × 8 columns</p>\n",
       "</div>"
      ],
      "text/plain": [
       "                 Datetime UTC         x         y         z   timestamp_nano  \\\n",
       "0     2025-09-16 13:33:42.951  9.379267  0.005384  1.347757  347823850842108   \n",
       "1     2025-09-16 13:33:42.961  9.331410 -0.028116  1.234697  347823860283514   \n",
       "2     2025-09-16 13:33:42.969  9.247063  0.029910  1.257428  347823869724764   \n",
       "3     2025-09-16 13:33:42.979  9.265608  0.163908  1.351347  347823879166274   \n",
       "4     2025-09-16 13:33:42.988  9.272786  0.312263  1.471586  347823888607680   \n",
       "...                       ...       ...       ...       ...              ...   \n",
       "74082 2025-09-16 13:45:22.468  8.694321 -0.114855  3.975077  348523368921104   \n",
       "74083 2025-09-16 13:45:22.479  8.608778 -0.056231  4.205386  348523378363239   \n",
       "74084 2025-09-16 13:45:22.487  8.648259 -0.028116  4.176074  348523387805687   \n",
       "74085 2025-09-16 13:45:22.497  8.717052 -0.122034  3.989434  348523397248187   \n",
       "74086 2025-09-16 13:45:22.507  8.974879 -0.224327  3.908078  348523406690687   \n",
       "\n",
       "      accuracy                                      name  Time (s)  \n",
       "0            3  lsm6dso lsm6dso accelerometer non-wakeup     0.000  \n",
       "1            3  lsm6dso lsm6dso accelerometer non-wakeup     0.010  \n",
       "2            3  lsm6dso lsm6dso accelerometer non-wakeup     0.018  \n",
       "3            3  lsm6dso lsm6dso accelerometer non-wakeup     0.028  \n",
       "4            3  lsm6dso lsm6dso accelerometer non-wakeup     0.037  \n",
       "...        ...                                       ...       ...  \n",
       "74082        3  lsm6dso lsm6dso accelerometer non-wakeup   699.517  \n",
       "74083        3  lsm6dso lsm6dso accelerometer non-wakeup   699.528  \n",
       "74084        3  lsm6dso lsm6dso accelerometer non-wakeup   699.536  \n",
       "74085        3  lsm6dso lsm6dso accelerometer non-wakeup   699.546  \n",
       "74086        3  lsm6dso lsm6dso accelerometer non-wakeup   699.556  \n",
       "\n",
       "[74087 rows x 8 columns]"
      ]
     },
     "execution_count": 34,
     "metadata": {},
     "output_type": "execute_result"
    }
   ],
   "source": [
    "# ds.instances['rota1a - 2025-09-16-10-33-42-649'] # get a specific sample\n",
    "sample = ds.instance # get a random sample \n",
    "sample_accel_data = sample.sensors3['lsm6dso lsm6dso accelerometer non-wakeup']\n",
    "sample_accel_data"
   ]
  },
  {
   "cell_type": "markdown",
   "id": "c04367ce",
   "metadata": {},
   "source": [
    "Extracting snippets"
   ]
  },
  {
   "cell_type": "code",
   "execution_count": null,
   "id": "520946c8",
   "metadata": {},
   "outputs": [
    {
     "name": "stdout",
     "output_type": "stream",
     "text": [
      "WARNING. No consumption data available for the specified time range: 2 to 8.\n",
      "MoviePy - Building video /home/renzo/Documents/GitHub/temp-SideSeeing-Exporter/out/snippet_2_17/video.mp4.\n",
      "MoviePy - Writing audio in videoTEMP_MPY_wvf_snd.mp3\n"
     ]
    },
    {
     "name": "stderr",
     "output_type": "stream",
     "text": [
      "                                                                    \r"
     ]
    },
    {
     "name": "stdout",
     "output_type": "stream",
     "text": [
      "MoviePy - Done.\n",
      "MoviePy - Writing video /home/renzo/Documents/GitHub/temp-SideSeeing-Exporter/out/snippet_2_17/video.mp4\n",
      "\n"
     ]
    },
    {
     "name": "stderr",
     "output_type": "stream",
     "text": [
      "                                                                        \r"
     ]
    },
    {
     "name": "stdout",
     "output_type": "stream",
     "text": [
      "MoviePy - Done !\n",
      "MoviePy - video ready /home/renzo/Documents/GitHub/temp-SideSeeing-Exporter/out/snippet_2_17/video.mp4\n"
     ]
    }
   ],
   "source": [
    "sample.extract_snippet(\n",
    "    start_time=2,                                                                       # Start time of the snippet (in seconds)\n",
    "    end_time=8,                                                                         # End time of the snippet (in seconds)\n",
    "    output_dir='/home/renzo/Documents/GitHub/temp-SideSeeing-Exporter/out/snippet_2_17' # Directory to save the extracted snippet\n",
    ")"
   ]
  },
  {
   "cell_type": "code",
   "execution_count": null,
   "id": "11a376e1",
   "metadata": {},
   "outputs": [],
   "source": [
    "from sideseeing_tools import plot\n",
    "\n",
    "plotter = plot.SideSeeingPlotter(ds, taxonomy='/home/user/my-project/taxonomy.csv')\n",
    "\n",
    "# Available methods:\n",
    "#   .generate_video_for_sensor()\n",
    "#   .plot_dataset_cities()\n",
    "#   .plot_dataset_map()\n",
    "#   .plot_dataset_tags_matrix()\n",
    "#   .plot_dataset_tags()\n",
    "#   .plot_instance_audio()\n",
    "#   .plot_instance_map()\n",
    "#   .plot_instance_sensors3_and_audio()\n",
    "#   .plot_instance_video_frames_at_times()\n",
    "#   .plot_instance_video_frames()\n",
    "#   .plot_sensor()\n",
    "#   .plot_sensors()"
   ]
  }
 ],
 "metadata": {
  "kernelspec": {
   "display_name": "export (3.12.3)",
   "language": "python",
   "name": "python3"
  },
  "language_info": {
   "codemirror_mode": {
    "name": "ipython",
    "version": 3
   },
   "file_extension": ".py",
   "mimetype": "text/x-python",
   "name": "python",
   "nbconvert_exporter": "python",
   "pygments_lexer": "ipython3",
   "version": "3.12.3"
  }
 },
 "nbformat": 4,
 "nbformat_minor": 5
}
